{
 "cells": [
  {
   "cell_type": "code",
   "execution_count": 8,
   "id": "f9db5cb0",
   "metadata": {},
   "outputs": [],
   "source": [
    "import tensorflow as tf\n",
    "from keras.models import Sequential\n",
    "from keras.layers import Dense, Conv2D, MaxPooling2D, Flatten, Dropout\n",
    "from keras.utils import to_categorical\n",
    "import numpy as np\n",
    "import matplotlib.pyplot as plt\n",
    "import random\n",
    "import os"
   ]
  },
  {
   "cell_type": "code",
   "execution_count": 18,
   "id": "1bad1161",
   "metadata": {},
   "outputs": [
    {
     "data": {
      "text/plain": [
       "650"
      ]
     },
     "execution_count": 18,
     "metadata": {},
     "output_type": "execute_result"
    }
   ],
   "source": [
    "dataset_row = 650\n",
    "dataset_col = 576\n",
    "dataset_category = 5\n",
    "dataset = np.zeros((dataset_row,dataset_col,dataset_category))\n",
    "dataset.shape[0]"
   ]
  },
  {
   "cell_type": "code",
   "execution_count": 25,
   "id": "814f8df0",
   "metadata": {},
   "outputs": [
    {
     "data": {
      "text/plain": [
       "(696, 576)"
      ]
     },
     "execution_count": 25,
     "metadata": {},
     "output_type": "execute_result"
    }
   ],
   "source": [
    "a = np.genfromtxt(\"dataset\\\\none.txt\", delimiter=\",\", dtype=int)\n",
    "a.shape\n",
    "# dataset[1] = np.genfromtxt(\"dataset\\\\open.txt\", delimiter=\",\", dtype=int)[0:dataset_row]\n",
    "# dataset[2] = np.genfromtxt(\"dataset\\\\close.txt\", delimiter=\",\", dtype=int)[0:dataset_row]\n",
    "# dataset[3] = np.genfromtxt(\"dataset\\\\cross.txt\", delimiter=\",\", dtype=int)[0:dataset_row]\n",
    "# dataset[4] = np.genfromtxt(\"dataset\\\\close_near.txt\", delimiter=\",\", dtype=int)[0:dataset_row]"
   ]
  },
  {
   "cell_type": "code",
   "execution_count": null,
   "id": "0ea4b191",
   "metadata": {},
   "outputs": [],
   "source": []
  }
 ],
 "metadata": {
  "kernelspec": {
   "display_name": "Python 3 (ipykernel)",
   "language": "python",
   "name": "python3"
  },
  "language_info": {
   "codemirror_mode": {
    "name": "ipython",
    "version": 3
   },
   "file_extension": ".py",
   "mimetype": "text/x-python",
   "name": "python",
   "nbconvert_exporter": "python",
   "pygments_lexer": "ipython3",
   "version": "3.8.13"
  }
 },
 "nbformat": 4,
 "nbformat_minor": 5
}
