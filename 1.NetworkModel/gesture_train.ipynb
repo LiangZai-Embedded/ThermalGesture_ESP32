{
 "cells": [
  {
   "cell_type": "code",
   "execution_count": null,
   "id": "f9db5cb0",
   "metadata": {},
   "outputs": [],
   "source": [
    "import tensorflow as tf\n",
    "from keras.models import Sequential\n",
    "from keras.layers import Dense, Conv2D, MaxPooling2D, Flatten\n",
    "from keras.utils import to_categorical\n",
    "import numpy as np\n",
    "import matplotlib.pyplot as plt"
   ]
  },
  {
   "cell_type": "code",
   "execution_count": null,
   "id": "1bad1161",
   "metadata": {},
   "outputs": [],
   "source": [
    "#单组热成像数据为24x24的温度值\n",
    "img_height_width = 24                       \n",
    "\n",
    "#取数据集前650组作为样本，串口波特率921600，采样时间大约需要75s\n",
    "dataset_row = 650                           \n",
    "dataset_col = np.square(img_height_width)\n",
    "\n",
    "#分类的种类\n",
    "category_num = 4\n",
    "\n",
    "#600组作为训练集，50组作为测试集\n",
    "train_data_len = 600\n",
    "test_data_len = 50\n",
    "\n",
    "random_seed = 100"
   ]
  },
  {
   "cell_type": "code",
   "execution_count": null,
   "id": "814f8df0",
   "metadata": {},
   "outputs": [],
   "source": [
    "#数据从SecureCRT保存的log信息中获得\n",
    "dataset = np.zeros((category_num,dataset_row,dataset_col))\n",
    "\n",
    "#识别调节滚动条手势为5分类 \n",
    "if category_num==5 :\n",
    "    dataset[0] = np.genfromtxt(\"dataset\\\\none.log\", delimiter=\",\", dtype='float32',encoding='utf-8')[1:dataset_row+1]\n",
    "    dataset[1] = np.genfromtxt(\"dataset\\\\open.log\", delimiter=\",\", dtype='float32',encoding='utf-8')[1:dataset_row+1]\n",
    "    dataset[2] = np.genfromtxt(\"dataset\\\\close_far.log\", delimiter=\",\", dtype='float32',encoding='utf-8')[1:dataset_row+1]\n",
    "    dataset[3] = np.genfromtxt(\"dataset\\\\cross.log\", delimiter=\",\", dtype='float32',encoding='utf-8')[1:dataset_row+1]\n",
    "    dataset[4] = np.genfromtxt(\"dataset\\\\close_near.log\", delimiter=\",\", dtype='float32',encoding='utf-8')[1:dataset_row+1]\n",
    "\n",
    "#识别数字手势为4分类\n",
    "else:\n",
    "    dataset[0] = np.genfromtxt(\"dataset\\\\none.log\", delimiter=\",\", dtype='float32',encoding='utf-8')[1:dataset_row+1]\n",
    "    dataset[1] = np.genfromtxt(\"dataset\\\\1.log\", delimiter=\",\", dtype='float32',encoding='utf-8')[1:dataset_row+1]\n",
    "    dataset[2] = np.genfromtxt(\"dataset\\\\2.log\", delimiter=\",\", dtype='float32',encoding='utf-8')[1:dataset_row+1]\n",
    "    dataset[3] = np.genfromtxt(\"dataset\\\\3.log\", delimiter=\",\", dtype='float32',encoding='utf-8')[1:dataset_row+1]\n",
    "    \n",
    "#[1:dataset_row+1]为了避免第一组数据乱码"
   ]
  },
  {
   "cell_type": "code",
   "execution_count": null,
   "id": "4eea8540",
   "metadata": {},
   "outputs": [],
   "source": [
    "np.random.seed(random_seed)\n",
    "for i in range(category_num):\n",
    "    np.random.shuffle(dataset[i])"
   ]
  },
  {
   "cell_type": "code",
   "execution_count": null,
   "id": "dcb4eb58",
   "metadata": {},
   "outputs": [],
   "source": [
    "train_data = np.zeros((category_num,train_data_len,dataset_col))\n",
    "test_data = np.zeros((category_num,test_data_len,dataset_col))\n",
    "\n",
    "for i in range(category_num):\n",
    "    train_data[i] = dataset[i][0:train_data_len]\n",
    "    test_data[i] = dataset[i][train_data_len:train_data_len+test_data_len]\n",
    "\n",
    "train_data.shape,test_data.shape"
   ]
  },
  {
   "cell_type": "code",
   "execution_count": null,
   "id": "a8af292e",
   "metadata": {},
   "outputs": [],
   "source": [
    "# graph = train_data[3][200].reshape(24, 24)\n",
    "# plt.imshow(graph, cmap=plt.cm.Reds)\n",
    "# plt.colorbar()\n",
    "# plt.show()"
   ]
  },
  {
   "cell_type": "code",
   "execution_count": null,
   "id": "e84e0b63",
   "metadata": {},
   "outputs": [],
   "source": [
    "for i in range(category_num):\n",
    "    train_data[i] -= np.average(train_data[i],axis = 1).reshape(-1,1)\n",
    "    test_data[i] -= np.average(test_data[i],axis = 1).reshape(-1,1)\n",
    "train_data /= 10\n",
    "test_data /= 10"
   ]
  },
  {
   "cell_type": "code",
   "execution_count": null,
   "id": "fb7e04ca",
   "metadata": {},
   "outputs": [],
   "source": [
    "#train_data[x][y] 可视化第x类的第y组数据\n",
    "graph = train_data[3][25].reshape(24, 24)\n",
    "plt.imshow(graph, cmap=plt.cm.Reds)\n",
    "plt.colorbar()\n",
    "plt.show()"
   ]
  },
  {
   "cell_type": "code",
   "execution_count": null,
   "id": "9fb1db90",
   "metadata": {},
   "outputs": [],
   "source": [
    "train_data = train_data.reshape(-1,dataset_col)\n",
    "train_data = train_data.reshape(train_data.shape[0],24,24,1)\n",
    "\n",
    "test_data = test_data.reshape(-1,dataset_col)\n",
    "test_data = test_data.reshape(test_data.shape[0],24,24,1)\n",
    "\n",
    "train_data.shape,test_data.shape"
   ]
  },
  {
   "cell_type": "code",
   "execution_count": null,
   "id": "1daf536f",
   "metadata": {},
   "outputs": [],
   "source": [
    "train_label = np.zeros(train_data.shape[0])\n",
    "test_label = np.zeros(test_data.shape[0])\n",
    "\n",
    "#每一类的数据赋予标签值\n",
    "base = 0\n",
    "for i in range(category_num):\n",
    "    train_label[base:base+train_data_len] = i\n",
    "    base += train_data_len\n",
    "    \n",
    "base = 0\n",
    "for i in range(category_num):\n",
    "    test_label[base:base+test_data_len] = i\n",
    "    base += test_data_len\n",
    "\n",
    "#转为One-hot\n",
    "train_label = to_categorical(train_label)\n",
    "test_label = to_categorical(test_label)"
   ]
  },
  {
   "cell_type": "code",
   "execution_count": null,
   "id": "691df1bf",
   "metadata": {},
   "outputs": [],
   "source": [
    "network = Sequential()\n",
    "network.add(Conv2D(5, (3,3),input_shape=(img_height_width, img_height_width,1),activation='relu'))\n",
    "network.add(MaxPooling2D(pool_size=(2,2),padding='valid'))\n",
    "network.add(Flatten())\n",
    "network.add(Dense(128, activation='relu'))\n",
    "network.add(Dense(64, activation='relu'))\n",
    "network.add(Dense(category_num, activation='softmax'))\n",
    "network.compile(optimizer='rmsprop', loss='categorical_crossentropy', metrics=['categorical_accuracy'])\n",
    "\n",
    "network.fit(train_data, train_label, validation_split = 0.2, epochs=5, batch_size=10)\n",
    "network.save(\"thermo_gesture.h5\")\n",
    "\n",
    "test_loss, test_acc = network.evaluate(test_data, test_label)\n",
    "print(\"test_loss:\", test_loss)\n",
    "print(\"test_acc:\", test_acc)"
   ]
  },
  {
   "cell_type": "code",
   "execution_count": null,
   "id": "5534524c",
   "metadata": {},
   "outputs": [],
   "source": [
    "#TensorFlow Lite模型量化\n",
    "\n",
    "# Convert the model to the TensorFlow Lite format without quantization\n",
    "converter = tf.lite.TFLiteConverter.from_keras_model(network)\n",
    "tflite_model = converter.convert()\n",
    "# Save the model to disk\n",
    "open(\"model.tflite\", \"wb\").write(tflite_model)\n",
    "\n",
    "\n",
    "# Convert the model to the TensorFlow Lite format with quantization\n",
    "converter = tf.lite.TFLiteConverter.from_keras_model(network)\n",
    "# Indicate that we want to perform the default optimizations,\n",
    "# which includes quantization\n",
    "converter.optimizations = [tf.lite.Optimize.DEFAULT]\n",
    "\n",
    "\n",
    "# Define a generator function that provides our test data's x values\n",
    "# as a representative dataset, and tell the converter to use it\n",
    "def representative_dataset_generator():\n",
    "    for value in test_data:\n",
    "    # Each scalar value must be inside of a 2D array that is wrapped in a list\n",
    "        yield [np.array(value, dtype=np.float32, ndmin=4)]\n",
    "\n",
    "\n",
    "converter.representative_dataset = representative_dataset_generator\n",
    "# Convert the model\n",
    "tflite_model = converter.convert()\n",
    "open(\"model_quantized.tflite\", \"wb\").write(tflite_model)"
   ]
  },
  {
   "cell_type": "code",
   "execution_count": null,
   "id": "1ef0fc60",
   "metadata": {},
   "outputs": [],
   "source": [
    "# 使用Linux Shell 命令xxd将tflite文件转换为数组\n",
    "# xxd -i model_quantized.tflite > model.cpp"
   ]
  }
 ],
 "metadata": {
  "kernelspec": {
   "display_name": "Python 3 (ipykernel)",
   "language": "python",
   "name": "python3"
  },
  "language_info": {
   "codemirror_mode": {
    "name": "ipython",
    "version": 3
   },
   "file_extension": ".py",
   "mimetype": "text/x-python",
   "name": "python",
   "nbconvert_exporter": "python",
   "pygments_lexer": "ipython3",
   "version": "3.8.13"
  }
 },
 "nbformat": 4,
 "nbformat_minor": 5
}
